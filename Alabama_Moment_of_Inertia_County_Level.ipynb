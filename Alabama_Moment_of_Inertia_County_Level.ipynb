{
 "cells": [
  {
   "cell_type": "code",
   "execution_count": 1,
   "id": "2a74cde5",
   "metadata": {},
   "outputs": [],
   "source": [
    "from gerrychain import Graph\n",
    "from geopy.distance import geodesic\n",
    "import math\n",
    "import gurobipy as gp\n",
    "from gurobipy import GRB\n",
    "import networkx as nx\n",
    "import geopandas as gpd"
   ]
  },
  {
   "cell_type": "code",
   "execution_count": 2,
   "id": "36ce9b2a",
   "metadata": {},
   "outputs": [],
   "source": [
    "# Read Alabama county graph from the json file \"AL_county.json\"\n",
    "filepath = \"C:\\\\Users\\\\19186\\\\Downloads\\\\Alabama_Redistricting\\\\Data\\\\\"\n",
    "filename = 'AL_county.json'\n",
    "\n",
    "# GerryChain has a built-in function for reading graphs of this type:\n",
    "G = Graph.from_json( filepath + filename )"
   ]
  },
  {
   "cell_type": "code",
   "execution_count": 3,
   "id": "3c57e513",
   "metadata": {},
   "outputs": [],
   "source": [
    "# For each node, print the node #, county name, population, and lat-long coordinates\n",
    "for node in G.nodes:\n",
    "    name = G.nodes[node][\"NAME20\"]\n",
    "    population = G.nodes[node]['P0010001'] \n",
    "    G.nodes[node]['TOTPOP'] = population\n",
    "    \n",
    "    # query lat and long coordinates \n",
    "    G.nodes[node]['C_X'] = G.nodes[node]['INTPTLON20'] #longitude of county's center\n",
    "    G.nodes[node]['C_Y'] = G.nodes[node]['INTPTLAT20'] #Latitude of county's center"
   ]
  },
  {
   "cell_type": "code",
   "execution_count": 5,
   "id": "b4a0c0b5",
   "metadata": {},
   "outputs": [],
   "source": [
    "# create distance dictionary\n",
    "dist = { (i,j) : 0 for i in G.nodes for j in G.nodes }\n",
    "for i in G.nodes:\n",
    "    for j in G.nodes:\n",
    "        loc_i = (G.nodes[i]['C_Y'], G.nodes[i]['C_X'])\n",
    "        loc_j = (G.nodes[j]['C_Y'], G.nodes[j]['C_X'])\n",
    "        dist[i,j] = geodesic(loc_i,loc_j).miles"
   ]
  },
  {
   "cell_type": "code",
   "execution_count": 6,
   "id": "febab2d3",
   "metadata": {},
   "outputs": [
    {
     "name": "stdout",
     "output_type": "stream",
     "text": [
      "Using L = 714166 and U = 721342 and k = 7\n"
     ]
    }
   ],
   "source": [
    "# Let's impose a 1% population deviation (+/- 0.5%)\n",
    "deviation = 0.01\n",
    "\n",
    "# number of districts\n",
    "k = 7          \n",
    "\n",
    "total_population = sum(G.nodes[node]['TOTPOP'] for node in G.nodes)\n",
    "\n",
    "#get the lower and upper bounds of the population per district\n",
    "L = math.ceil((1-deviation/2)*total_population/k)\n",
    "U = math.floor((1+deviation/2)*total_population/k)\n",
    "print(\"Using L =\",L,\"and U =\",U,\"and k =\",k)"
   ]
  },
  {
   "cell_type": "code",
   "execution_count": 7,
   "id": "e413d819",
   "metadata": {},
   "outputs": [
    {
     "name": "stdout",
     "output_type": "stream",
     "text": [
      "Set parameter Username\n",
      "Academic license - for non-commercial use only - expires 2024-01-18\n"
     ]
    }
   ],
   "source": [
    "# create model \n",
    "m = gp.Model()\n",
    "\n",
    "# create x[i,j] variable which equals one when county i is assigned to (the district centered at) county j\n",
    "x = m.addVars(G.nodes, G.nodes, vtype=GRB.BINARY) "
   ]
  },
  {
   "cell_type": "code",
   "execution_count": 8,
   "id": "b6137e90",
   "metadata": {},
   "outputs": [],
   "source": [
    "# objective is to minimize the moment of inertia: sum (d^2 * p * x over all i and j)\n",
    "m.setObjective(gp.quicksum( dist[i,j] * dist[i,j] * G.nodes[i][\"TOTPOP\"] * x[i,j] for i in G.nodes for j in G.nodes))"
   ]
  },
  {
   "cell_type": "code",
   "execution_count": 9,
   "id": "fd2b7721",
   "metadata": {},
   "outputs": [],
   "source": [
    "# add constraints saying that each county i is assigned to one district\n",
    "m.addConstrs( gp.quicksum( x[i,j] for j in G.nodes ) == 1 for i in G.nodes )\n",
    "\n",
    "# add constraint saying there should be k district centers\n",
    "m.addConstr( gp.quicksum( x[j,j] for j in G.nodes ) == k)\n",
    "\n",
    "# add constraints that say: if j roots a district, then its population is between L and U.\n",
    "m.addConstrs( gp.quicksum(G.nodes[i]['TOTPOP'] * x[i,j] for i in G.nodes) >= L * x[j,j] for j in G.nodes)\n",
    "m.addConstrs( gp.quicksum(G.nodes[i]['TOTPOP'] * x[i,j] for i in G.nodes) <= U * x[j,j] for j in G.nodes)\n",
    "\n",
    "# add coupling constraints saying that if i is assigned to j, then j is a center.\n",
    "m.addConstrs( x[i,j] <= x[j,j] for i in G.nodes for j in G.nodes)\n",
    "\n",
    "m.update()"
   ]
  },
  {
   "cell_type": "code",
   "execution_count": 10,
   "id": "2b474f61",
   "metadata": {},
   "outputs": [],
   "source": [
    "# Add contiguity constraints\n",
    "DG = nx.DiGraph(G)\n",
    "\n",
    "# Add variable f[j,u,v] which equals the amount of flow (originally from j) that is sent across arc (u,v)\n",
    "f = m.addVars( DG.nodes, DG.edges, vtype=GRB.CONTINUOUS)\n",
    "M = DG.number_of_nodes()-1\n",
    "\n",
    "# Add constraint saying that node j cannot receive flow of its own type\n",
    "m.addConstrs( gp.quicksum( f[j,u,j] for u in DG.neighbors(j) ) == 0 for j in DG.nodes )\n",
    "\n",
    "# Add constraints saying that node i can receive flow of type j only if i is assigned to j\n",
    "m.addConstrs( gp.quicksum( f[j,u,i] for u in DG.neighbors(i)) <= M * x[i,j] for i in DG.nodes for j in DG.nodes if i != j )\n",
    "\n",
    "# If i is assigned to j, then i should consume one unit of j flow. \n",
    "# Otherwise, i should consume no units of j flow.\n",
    "m.addConstrs( gp.quicksum( f[j,u,i] - f[j,i,u] for u in DG.neighbors(i)) == x[i,j] for i in DG.nodes for j in DG.nodes if i != j )\n",
    "\n",
    "m.update()"
   ]
  },
  {
   "cell_type": "code",
   "execution_count": 11,
   "id": "101d78e2",
   "metadata": {},
   "outputs": [
    {
     "name": "stdout",
     "output_type": "stream",
     "text": [
      "Set parameter MIPGap to value 0\n",
      "Gurobi Optimizer version 10.0.0 build v10.0.0rc2 (win64)\n",
      "\n",
      "CPU model: Intel(R) Core(TM) i7-9750H CPU @ 2.60GHz, instruction set [SSE2|AVX|AVX2]\n",
      "Thread count: 6 physical cores, 12 logical processors, using up to 12 threads\n",
      "\n",
      "Optimize a model with 13602 rows, 27403 columns and 99280 nonzeros\n",
      "Model fingerprint: 0xa36d7458\n",
      "Variable types: 22914 continuous, 4489 integer (4489 binary)\n",
      "Coefficient statistics:\n",
      "  Matrix range     [1e+00, 7e+05]\n",
      "  Objective range  [3e+06, 4e+10]\n",
      "  Bounds range     [1e+00, 1e+00]\n",
      "  RHS range        [1e+00, 7e+00]\n",
      "Warning: Model contains large objective coefficients\n",
      "         Consider reformulating model or setting NumericFocus parameter\n",
      "         to avoid numerical issues.\n",
      "Presolve removed 575 rows and 1552 columns\n",
      "Presolve time: 1.27s\n",
      "Presolved: 13027 rows, 25851 columns, 95568 nonzeros\n",
      "Variable types: 21445 continuous, 4406 integer (4406 binary)\n",
      "\n",
      "Root relaxation: objective 5.572088e+09, 1800 iterations, 0.92 seconds (0.25 work units)\n",
      "\n",
      "    Nodes    |    Current Node    |     Objective Bounds      |     Work\n",
      " Expl Unexpl |  Obj  Depth IntInf | Incumbent    BestBd   Gap | It/Node Time\n",
      "\n",
      "     0     0 5.5721e+09    0  191          - 5.5721e+09      -     -    3s\n",
      "     0     0 5.6936e+09    0  234          - 5.6936e+09      -     -    6s\n",
      "     0     0 5.7369e+09    0  238          - 5.7369e+09      -     -    6s\n",
      "     0     0 5.7378e+09    0  238          - 5.7378e+09      -     -    6s\n",
      "     0     0 5.7389e+09    0  229          - 5.7389e+09      -     -    6s\n",
      "     0     0 5.8173e+09    0  263          - 5.8173e+09      -     -    8s\n",
      "     0     0 5.8173e+09    0  259          - 5.8173e+09      -     -    8s\n",
      "     0     0 5.8221e+09    0  257          - 5.8221e+09      -     -    9s\n",
      "     0     0 5.8227e+09    0  262          - 5.8227e+09      -     -    9s\n",
      "     0     0 5.9010e+09    0  272          - 5.9010e+09      -     -   10s\n",
      "     0     0 5.9088e+09    0  272          - 5.9088e+09      -     -   11s\n",
      "     0     0 5.9095e+09    0  271          - 5.9095e+09      -     -   11s\n",
      "     0     0 5.9096e+09    0  275          - 5.9096e+09      -     -   11s\n",
      "     0     0 5.9452e+09    0  276          - 5.9452e+09      -     -   13s\n",
      "     0     0 5.9471e+09    0  264          - 5.9471e+09      -     -   13s\n",
      "     0     0 5.9476e+09    0  265          - 5.9476e+09      -     -   13s\n",
      "     0     0 5.9477e+09    0  265          - 5.9477e+09      -     -   13s\n",
      "     0     0 5.9478e+09    0  264          - 5.9478e+09      -     -   14s\n",
      "     0     0 5.9512e+09    0  277          - 5.9512e+09      -     -   14s\n",
      "     0     0 5.9513e+09    0  278          - 5.9513e+09      -     -   15s\n",
      "     0     0 5.9513e+09    0  278          - 5.9513e+09      -     -   15s\n",
      "     0     0 5.9555e+09    0  275          - 5.9555e+09      -     -   15s\n",
      "     0     0 5.9555e+09    0  288          - 5.9555e+09      -     -   16s\n",
      "     0     0 5.9558e+09    0  291          - 5.9558e+09      -     -   16s\n",
      "     0     0 5.9558e+09    0  291          - 5.9558e+09      -     -   17s\n",
      "     0     0 5.9561e+09    0  294          - 5.9561e+09      -     -   17s\n",
      "     0     0 5.9561e+09    0  295          - 5.9561e+09      -     -   18s\n",
      "     0     0 5.9562e+09    0  297          - 5.9562e+09      -     -   18s\n",
      "     0     0 5.9562e+09    0  297          - 5.9562e+09      -     -   18s\n",
      "     0     0 5.9562e+09    0  296          - 5.9562e+09      -     -   19s\n",
      "     0     0 5.9562e+09    0  296          - 5.9562e+09      -     -   19s\n",
      "     0     2 5.9562e+09    0  296          - 5.9562e+09      -     -   24s\n",
      "     3     8 5.9840e+09    2  278          - 5.9606e+09      -   282   25s\n",
      "    59    66 6.2711e+09    9  204          - 6.0434e+09      -   331   30s\n",
      "   188   193 7.0699e+09   19   91          - 6.0434e+09      -   230   35s\n",
      "   479   459 7.4668e+09   50   88          - 6.0434e+09      -   147   40s\n",
      "   686   630 6.2906e+09    7  217          - 6.1127e+09      -   141   45s\n",
      "  1001   897 7.2737e+09   10  201          - 6.1527e+09      -   131   50s\n",
      "  1339  1055 8.8824e+09   56  296          - 6.1527e+09      -   115   57s\n",
      "  1341  1056 6.6596e+09   28  189          - 6.1527e+09      -   114   61s\n",
      "  1342  1057 6.5218e+09   40  245          - 6.1527e+09      -   114   65s\n",
      "  1347  1060 8.2392e+09   43  256          - 6.1527e+09      -   114   70s\n",
      "  1353  1064 6.9133e+09    4  267          - 6.1527e+09      -   113   75s\n",
      "  1358  1068 7.0703e+09   20  305          - 6.1527e+09      -   113   80s\n",
      "  1363  1071 6.4846e+09   11  331          - 6.1552e+09      -   113   85s\n",
      "  1366  1073 6.2663e+09   16  389          - 6.1629e+09      -   112   90s\n",
      "  1369  1075 6.9528e+09   28  350          - 6.1664e+09      -   112   95s\n",
      "H 1370  1021                    6.593085e+09 6.1664e+09  6.47%   112  106s\n",
      "  1374  1024 6.4814e+09    5  170 6.5931e+09 6.2025e+09  5.92%   118  110s\n",
      "  1382  1030 6.5931e+09   67  335 6.5931e+09 6.2025e+09  5.92%   117  115s\n",
      "  1388  1034 6.5931e+09   54  347 6.5931e+09 6.2025e+09  5.92%   117  121s\n",
      "  1390  1035 6.5931e+09   41  347 6.5931e+09 6.2025e+09  5.92%   117  125s\n",
      "  1475  1042 6.5348e+09   30   16 6.5931e+09 6.2075e+09  5.85%   122  130s\n",
      "  1678  1011 6.4758e+09   30  129 6.5931e+09 6.3310e+09  3.98%   118  135s\n",
      "\n",
      "Cutting planes:\n",
      "  Cover: 64\n",
      "  MIR: 23\n",
      "  StrongCG: 7\n",
      "  Flow cover: 122\n",
      "  GUB cover: 5\n",
      "  Zero half: 6\n",
      "  Network: 5\n",
      "\n",
      "Explored 2100 nodes (229777 simplex iterations) in 139.73 seconds (39.25 work units)\n",
      "Thread count was 12 (of 12 available processors)\n",
      "\n",
      "Solution count 1: 6.59309e+09 \n",
      "\n",
      "Optimal solution found (tolerance 0.00e+00)\n",
      "Best objective 6.593085384641e+09, best bound 6.593085384641e+09, gap 0.0000%\n"
     ]
    }
   ],
   "source": [
    "# solve, and setting 0.00% MIP gap tolerance\n",
    "m.Params.MIPGap = 0.0\n",
    "m.optimize()"
   ]
  },
  {
   "cell_type": "code",
   "execution_count": 16,
   "id": "b329e43f",
   "metadata": {},
   "outputs": [
    {
     "name": "stdout",
     "output_type": "stream",
     "text": [
      "6593085384.640669\n",
      "\n",
      "District 0 has population 714963 and contains counties ['Cleburne', 'Tallapoosa', 'Crenshaw', 'Calhoun', 'Elmore', 'Randolph', 'Clay', 'Cherokee', 'Lee', 'Chambers', 'Lowndes', 'Talladega', 'Autauga', 'Macon']\n",
      "\n",
      "District 1 has population 720310 and contains counties ['Jefferson', 'Bibb', 'Hale', 'Perry']\n",
      "\n",
      "District 2 has population 717488 and contains counties ['Clarke', 'Washington', 'Mobile', 'Monroe', 'Baldwin', 'Choctaw']\n",
      "\n",
      "District 3 has population 718247 and contains counties ['Shelby', 'Dallas', 'Pickens', 'Walker', 'Chilton', 'Marengo', 'Greene', 'Fayette', 'Tuscaloosa', 'Wilcox', 'Coosa', 'Sumter', 'Winston']\n",
      "\n",
      "District 4 has population 719832 and contains counties ['Lawrence', 'Morgan', 'Etowah', 'DeKalb', 'Marshall', 'Blount', 'Jackson', 'St. Clair', 'Cullman']\n",
      "\n",
      "District 5 has population 717940 and contains counties ['Lauderdale', 'Madison', 'Lamar', 'Franklin', 'Colbert', 'Limestone', 'Marion']\n",
      "\n",
      "District 6 has population 715499 and contains counties ['Barbour', 'Geneva', 'Dale', 'Houston', 'Russell', 'Conecuh', 'Montgomery', 'Coffee', 'Covington', 'Henry', 'Butler', 'Escambia', 'Pike', 'Bullock']\n",
      "\n"
     ]
    }
   ],
   "source": [
    "# print the objective value\n",
    "print(m.objVal)\n",
    "print(\"\")\n",
    "\n",
    "# retrieve the districts and their populations\n",
    "# but first get the district \"centers\"\n",
    "\n",
    "centers = [j for j in G.nodes if x[j,j].x > 0.5]\n",
    "\n",
    "districts = [ [i for i in G.nodes if x[i,j].x > 0.5] for j in centers]\n",
    "district_counties = [ [ G.nodes[i][\"NAME20\"] for i in districts[j] ] for j in range(k)]\n",
    "district_populations = [ sum(G.nodes[i][\"TOTPOP\"] for i in districts[j]) for j in range(k) ]\n",
    "\n",
    "# print district info\n",
    "for j in range(k):\n",
    "    print(\"District\",j,\"has population\",district_populations[j],\"and contains counties\",district_counties[j])\n",
    "    print(\"\")"
   ]
  },
  {
   "cell_type": "code",
   "execution_count": 13,
   "id": "a584bed5",
   "metadata": {},
   "outputs": [],
   "source": [
    "# Let's draw it on a map\n",
    "# Read Alabama county shapefile from \"OK_county.shp\"\n",
    "filepath = \"C:\\\\Users\\\\19186\\\\Downloads\\\\Alabama_Redistricting\\\\Data\\\\\"\n",
    "filename = 'AL_county.shp'\n",
    "\n",
    "# Read geopandas dataframe from file\n",
    "df = gpd.read_file( filepath + filename )"
   ]
  },
  {
   "cell_type": "code",
   "execution_count": 14,
   "id": "72082fe3",
   "metadata": {},
   "outputs": [
    {
     "data": {
      "image/png": "[encoded data removed]",
      "text/plain": [
       "<Figure size 640x480 with 1 Axes>"
      ]
     },
     "metadata": {},
     "output_type": "display_data"
    }
   ],
   "source": [
    "# Which district is each county assigned to?\n",
    "assignment = [ -1 for i in G.nodes ]\n",
    "\n",
    "labeling = { i : -1 for i in G.nodes }\n",
    "for j in range(k):\n",
    "    district = districts[j]\n",
    "    for i in district:\n",
    "        labeling[i] = j\n",
    "\n",
    "# Now add the assignments to a column of the dataframe and map it\n",
    "node_with_this_geoid = {G.nodes[i]['GEOID20'] : i for i in G.nodes }\n",
    "\n",
    "# pick a position u in the dataframe\n",
    "for u in range(G.number_of_nodes()):\n",
    "    \n",
    "    geoid = df['GEOID20'][u]\n",
    "    \n",
    "    # what node in G has this geoid?\n",
    "    i = node_with_this_geoid[geoid]\n",
    "    \n",
    "    # postion u in the dataframe should be given\n",
    "    # the same district # that county i has in 'labeling'\n",
    "    assignment[u] = labeling[i]\n",
    "\n",
    "#now add the assignents to a column of our dataframe then map it\n",
    "df['assignment'] = assignment\n",
    "\n",
    "my_fig = df.plot(column='assignment').get_figure()"
   ]
  },
  {
   "cell_type": "code",
   "execution_count": null,
   "id": "625ef872",
   "metadata": {},
   "outputs": [],
   "source": []
  }
 ],
 "metadata": {
  "kernelspec": {
   "display_name": "Python 3 (ipykernel)",
   "language": "python",
   "name": "python3"
  },
  "language_info": {
   "codemirror_mode": {
    "name": "ipython",
    "version": 3
   },
   "file_extension": ".py",
   "mimetype": "text/x-python",
   "name": "python",
   "nbconvert_exporter": "python",
   "pygments_lexer": "ipython3",
   "version": "3.9.13"
  }
 },
 "nbformat": 4,
 "nbformat_minor": 5
}
