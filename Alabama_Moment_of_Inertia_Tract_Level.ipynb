{
 "cells": [
  {
   "cell_type": "code",
   "execution_count": 1,
   "id": "2a74cde5",
   "metadata": {},
   "outputs": [],
   "source": [
    "from gerrychain import Graph\n",
    "from geopy.distance import geodesic\n",
    "import math\n",
    "import gurobipy as gp\n",
    "from gurobipy import GRB\n",
    "import networkx as nx\n",
    "import geopandas as gpd"
   ]
  },
  {
   "cell_type": "code",
   "execution_count": 2,
   "id": "36ce9b2a",
   "metadata": {},
   "outputs": [],
   "source": [
    "# Read Alabama tract graph from the json file \"AL_county.json\"\n",
    "filepath = \"C:\\\\Users\\\\19186\\\\Downloads\\\\Alabama_Project\\\\\"\n",
    "filename = 'AL_tract.json'\n",
    "\n",
    "# GerryChain has a built-in function for reading graphs of this type:\n",
    "G = Graph.from_json( filepath + filename )"
   ]
  },
  {
   "cell_type": "code",
   "execution_count": 3,
   "id": "3c57e513",
   "metadata": {},
   "outputs": [],
   "source": [
    "# For each node, print the node #, county name, population, and lat-long coordinates\n",
    "for node in G.nodes:\n",
    "    name = G.nodes[node][\"NAME20\"]\n",
    "    population = G.nodes[node]['P0010001'] \n",
    "    G.nodes[node]['TOTPOP'] = population\n",
    "    \n",
    "    # query lat and long coordinates \n",
    "    G.nodes[node]['C_X'] = G.nodes[node]['INTPTLON20'] #longitude of county's center\n",
    "    G.nodes[node]['C_Y'] = G.nodes[node]['INTPTLAT20'] #Latitude of county's center"
   ]
  },
  {
   "cell_type": "code",
   "execution_count": 4,
   "id": "4e94b269",
   "metadata": {},
   "outputs": [],
   "source": [
    "#Get Black Minorty and Voting Age Population\n",
    "codes = ['P0030004'] # Black or African American alone \n",
    "codes += ['P0030011','P0030016','P0030017','P0030018','P0030019'] # Black or African American (among 2 races)\n",
    "codes += ['P0030027','P0030028','P0030029','P0030030','P0030037','P0030038','P0030039','P0030040','P0030041','P0030042'] # among 3\n",
    "codes += ['P0030048','P0030049','P0030050','P0030051','P0030052','P0030053','P0030058','P0030059','P0030060','P0030061'] # among 4\n",
    "codes += ['P0030064','P0030065', 'P0030066','P0030067','P0030069'] # among 5\n",
    "codes += ['P0030071'] # among 6\n",
    "\n",
    "#Then, to sum the quantities associated with these codes, I do the following:\n",
    "for i in G.nodes: \n",
    "        \n",
    "# voting age population (VAP)\n",
    "    G.nodes[i]['VAP'] = G.nodes[i]['P0030001']\n",
    " # Black voting age population (BVAP)\n",
    "    G.nodes[i]['BVAP'] = sum(G.nodes[i][code] for code in codes )"
   ]
  },
  {
   "cell_type": "code",
   "execution_count": 5,
   "id": "b4a0c0b5",
   "metadata": {},
   "outputs": [],
   "source": [
    "# create distance dictionary\n",
    "dist = { (i,j) : 0 for i in G.nodes for j in G.nodes }\n",
    "for i in G.nodes:\n",
    "    for j in G.nodes:\n",
    "        loc_i = (G.nodes[i]['C_Y'], G.nodes[i]['C_X'])\n",
    "        loc_j = (G.nodes[j]['C_Y'], G.nodes[j]['C_X'])\n",
    "        dist[i,j] = geodesic(loc_i,loc_j).miles"
   ]
  },
  {
   "cell_type": "code",
   "execution_count": 7,
   "id": "febab2d3",
   "metadata": {},
   "outputs": [
    {
     "name": "stdout",
     "output_type": "stream",
     "text": [
      "Using L = 714166 and U = 721342 and k = 7\n"
     ]
    }
   ],
   "source": [
    "# Let's impose a 1% population deviation (+/- 0.5%)\n",
    "deviation = 0.01\n",
    "\n",
    "# number of districts\n",
    "k = 7          \n",
    "\n",
    "total_population = sum(G.nodes[node]['TOTPOP'] for node in G.nodes)\n",
    "\n",
    "L = math.ceil((1-deviation/2)*total_population/k)\n",
    "U = math.floor((1+deviation/2)*total_population/k)\n",
    "print(\"Using L =\",L,\"and U =\",U,\"and k =\",k)"
   ]
  },
  {
   "cell_type": "code",
   "execution_count": 8,
   "id": "e413d819",
   "metadata": {},
   "outputs": [
    {
     "name": "stdout",
     "output_type": "stream",
     "text": [
      "Set parameter Username\n",
      "Academic license - for non-commercial use only - expires 2024-01-18\n"
     ]
    }
   ],
   "source": [
    "# create model \n",
    "m = gp.Model()\n",
    "\n",
    "# create x[i,j] variable which equals one when county i \n",
    "# is assigned to (the district centered at) county j\n",
    "x = m.addVars(G.nodes, G.nodes, vtype=GRB.BINARY) "
   ]
  },
  {
   "cell_type": "code",
   "execution_count": 9,
   "id": "b6137e90",
   "metadata": {},
   "outputs": [],
   "source": [
    "# objective is to minimize the moment of inertia: sum (d^2 * p * x over all i and j)\n",
    "m.setObjective(gp.quicksum( dist[i,j] * dist[i,j] * G.nodes[i][\"TOTPOP\"] * x[i,j] for i in G.nodes for j in G.nodes))"
   ]
  },
  {
   "cell_type": "code",
   "execution_count": 10,
   "id": "fd2b7721",
   "metadata": {},
   "outputs": [],
   "source": [
    "# add constraints saying that each county i is assigned to one district\n",
    "m.addConstrs( gp.quicksum( x[i,j] for j in G.nodes ) == 1 for i in G.nodes )\n",
    "\n",
    "\n",
    "# add constraint saying there should be k district centers\n",
    "m.addConstr( gp.quicksum( x[j,j] for j in G.nodes ) == k)\n",
    "\n",
    "# add constraints that say: if j roots a district, then its population is between L and U.\n",
    "m.addConstrs( gp.quicksum(G.nodes[i]['TOTPOP'] * x[i,j] for i in G.nodes) >= L * x[j,j] for j in G.nodes)\n",
    "m.addConstrs( gp.quicksum(G.nodes[i]['TOTPOP'] * x[i,j] for i in G.nodes) <= U * x[j,j] for j in G.nodes)\n",
    "\n",
    "#add 2 black majority districts\n",
    "#We will have to decalare the centers because we need these districts to be centered at a tract where we know this will be possible\n",
    "\n",
    "#Tract in Greenvile in the middle of the black belt\n",
    "x[1109,1109].LB = 1\n",
    "\n",
    "#Tract in Tuscaloosa also black belt towards the top\n",
    "x[5,5].LB = 1\n",
    "\n",
    "m.addConstr(gp.quicksum(G.nodes[i]['BVAP'] * x[i,1109] for i in G.nodes) >= gp.quicksum(.5 * G.nodes[i]['VAP'] * x[i,1109] for i in G.nodes))\n",
    "m.addConstr(gp.quicksum(G.nodes[i]['BVAP'] * x[i,5] for i in G.nodes) >= gp.quicksum(.5 * G.nodes[i]['VAP'] * x[i,5] for i in G.nodes))\n",
    "\n",
    "\n",
    "# add coupling constraints saying that if i is assigned to j, then j is a center.\n",
    "m.addConstrs( x[i,j] <= x[j,j] for i in G.nodes for j in G.nodes)\n",
    "\n",
    "m.update()"
   ]
  },
  {
   "cell_type": "code",
   "execution_count": 11,
   "id": "2b474f61",
   "metadata": {},
   "outputs": [],
   "source": [
    "# Add contiguity constraints\n",
    "DG = nx.DiGraph(G)\n",
    "\n",
    "# Add variable f[j,u,v] which equals the amount of flow (originally from j) that is sent across arc (u,v)\n",
    "f = m.addVars( DG.nodes, DG.edges, vtype=GRB.CONTINUOUS)\n",
    "M = DG.number_of_nodes()-1\n",
    "\n",
    "# Add constraint saying that node j cannot receive flow of its own type\n",
    "m.addConstrs( gp.quicksum( f[j,u,j] for u in DG.neighbors(j) ) == 0 for j in DG.nodes )\n",
    "\n",
    "# Add constraints saying that node i can receive flow of type j only if i is assigned to j\n",
    "m.addConstrs( gp.quicksum( f[j,u,i] for u in DG.neighbors(i)) <= M * x[i,j] for i in DG.nodes for j in DG.nodes if i != j )\n",
    "\n",
    "# If i is assigned to j, then i should consume one unit of j flow. \n",
    "#    Otherwise, i should consume no units of j flow.\n",
    "m.addConstrs( gp.quicksum( f[j,u,i] - f[j,i,u] for u in DG.neighbors(i)) == x[i,j] for i in DG.nodes for j in DG.nodes if i != j )\n",
    "\n",
    "m.update()"
   ]
  },
  {
   "cell_type": "code",
   "execution_count": null,
   "id": "101d78e2",
   "metadata": {},
   "outputs": [],
   "source": [
    "# solve, making sure to set a 0.00% MIP gap tolerance(!)\n",
    "m.Params.MIPGap = 0.0\n",
    "m.optimize()"
   ]
  },
  {
   "cell_type": "code",
   "execution_count": null,
   "id": "b329e43f",
   "metadata": {},
   "outputs": [],
   "source": [
    "# print the objective value\n",
    "print(m.objVal)\n",
    "\n",
    "# retrieve the districts and their populations but first get the district \"centers\"\n",
    "\n",
    "centers = [j for j in G.nodes if x[j,j].x > 0.5]\n",
    "\n",
    "districts = [ [i for i in G.nodes if x[i,j].x > 0.5] for j in centers]\n",
    "district_counties = [ [ G.nodes[i][\"NAME20\"] for i in districts[j] ] for j in range(k)]\n",
    "district_populations = [ sum(G.nodes[i][\"TOTPOP\"] for i in districts[j]) for j in range(k) ]\n",
    "black_pop = [ sum(G.nodes[i][\"BVAP\"] for i in districts[j]) for j in range(k) ]\n",
    "white_pop = [ sum(G.nodes[i][\"VAP\"] for i in districts[j]) for j in range(k) ]\n",
    "\n",
    "\n",
    "\n",
    "# print district info\n",
    "for j in range(k):\n",
    "    print(\"District\",j,\"has population\",district_populations[j],\"and contains counties\",district_counties[j])\n",
    "    print(\"it has a minority voting ratio\", (black_pop[j] / white_pop[j]) * 100 , '%')\n",
    "    print(\"\")"
   ]
  },
  {
   "cell_type": "code",
   "execution_count": 13,
   "id": "a584bed5",
   "metadata": {},
   "outputs": [],
   "source": [
    "# Let's draw it on a map\n",
    "# Read Alabama tract shapefile from \"AL_county.shp\"\n",
    "filepath = \"C:\\\\Users\\\\19186\\\\Downloads\\\\Alabama_Project\\\\\"\n",
    "filename = 'AL_tract.shp'\n",
    "\n",
    "# Read geopandas dataframe from file\n",
    "df = gpd.read_file( filepath + filename )"
   ]
  },
  {
   "cell_type": "code",
   "execution_count": null,
   "id": "72082fe3",
   "metadata": {},
   "outputs": [],
   "source": [
    "# Which district is each county assigned to?\n",
    "assignment = [ -1 for i in G.nodes ]\n",
    "\n",
    "labeling = { i : -1 for i in G.nodes }\n",
    "for j in range(k):\n",
    "    district = districts[j]\n",
    "    for i in district:\n",
    "        labeling[i] = j\n",
    "\n",
    "# Now add the assignments to a column of the dataframe and map it\n",
    "node_with_this_geoid = {G.nodes[i]['GEOID20'] : i for i in G.nodes }\n",
    "\n",
    "# pick a position u in the dataframe\n",
    "for u in range(G.number_of_nodes()):\n",
    "    \n",
    "    geoid = df['GEOID20'][u]\n",
    "    \n",
    "    # what node in G has this geoid?\n",
    "    i = node_with_this_geoid[geoid]\n",
    "    \n",
    "    # postion u in the dataframe should be given\n",
    "    # the same district # that county i has in 'labeling'\n",
    "    assignment[u] = labeling[i]\n",
    "\n",
    "#now add the assignents to a column of our dataframe then map it\n",
    "df['assignment'] = assignment\n",
    "\n",
    "my_fig = df.plot(column='assignment').get_figure()"
   ]
  }
 ],
 "metadata": {
  "kernelspec": {
   "display_name": "Python 3 (ipykernel)",
   "language": "python",
   "name": "python3"
  },
  "language_info": {
   "codemirror_mode": {
    "name": "ipython",
    "version": 3
   },
   "file_extension": ".py",
   "mimetype": "text/x-python",
   "name": "python",
   "nbconvert_exporter": "python",
   "pygments_lexer": "ipython3",
   "version": "3.9.13"
  }
 },
 "nbformat": 4,
 "nbformat_minor": 5
}
