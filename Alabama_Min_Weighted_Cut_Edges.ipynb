{
 "cells": [
  {
   "cell_type": "code",
   "execution_count": 1,
   "metadata": {},
   "outputs": [],
   "source": [
    "from gerrychain import Graph\n",
    "import gurobipy as gp\n",
    "from gurobipy import GRB\n",
    "import geopandas as gpd\n",
    "import networkx as nx"
   ]
  },
  {
   "cell_type": "code",
   "execution_count": 2,
   "metadata": {},
   "outputs": [],
   "source": [
    "# Read Oklahoma county graph from the json file \"OK_county.json\"\n",
    "filepath = \"C:\\\\Users\\\\19186\\\\Downloads\\\\Alabama_Project\\\\\"\n",
    "filename = 'AL_tract.json'\n",
    "filename_county = 'AL_county.json'\n",
    "\n",
    "# GerryChain has a built-in function for reading graphs of this type:\n",
    "G = Graph.from_json( filepath + filename )\n",
    "CG = Graph.from_json( filepath + filename_county )"
   ]
  },
  {
   "cell_type": "code",
   "execution_count": 3,
   "metadata": {},
   "outputs": [],
   "source": [
    "# For each node get its population\n",
    "for node in G.nodes:\n",
    "    G.nodes[node]['TOTPOP'] = G.nodes[node]['P0010001']"
   ]
  },
  {
   "cell_type": "code",
   "execution_count": 4,
   "metadata": {},
   "outputs": [],
   "source": [
    "#Get Black Minorty and Voting Age Population\n",
    "codes = ['P0030004'] # Black or African American alone \n",
    "codes += ['P0030011','P0030016','P0030017','P0030018','P0030019'] # Black or African American (among 2 races)\n",
    "codes += ['P0030027','P0030028','P0030029','P0030030','P0030037','P0030038','P0030039','P0030040','P0030041','P0030042'] # among 3\n",
    "codes += ['P0030048','P0030049','P0030050','P0030051','P0030052','P0030053','P0030058','P0030059','P0030060','P0030061'] # among 4\n",
    "codes += ['P0030064','P0030065', 'P0030066','P0030067','P0030069'] # among 5\n",
    "codes += ['P0030071'] # among 6\n",
    "\n",
    "#Then, to sum the quantities associated with these codes, I do the following:\n",
    "for i in G.nodes: \n",
    "        \n",
    "# voting age population (VAP)\n",
    "    G.nodes[i]['VAP'] = G.nodes[i]['P0030001']\n",
    "\n",
    " # Black voting age population (BVAP)\n",
    "    G.nodes[i]['BVAP'] = sum(G.nodes[i][code] for code in codes )"
   ]
  },
  {
   "cell_type": "code",
   "execution_count": 5,
   "metadata": {},
   "outputs": [],
   "source": [
    "#get the counties of each of the \n",
    "whole_counties = []\n",
    "broken_counties = []\n",
    "for node in CG.nodes:\n",
    "    #We know Mobile and Jefferson County will have to be split to have 2 black majority districts\n",
    "    #-- 097 mobile and -- 073 jefferson \n",
    "    if CG.nodes[node]['COUNTY'] in ['097','073']:\n",
    "        broken_counties.append(node)\n",
    "    else:\n",
    "        whole_counties.append(node)"
   ]
  },
  {
   "cell_type": "code",
   "execution_count": 6,
   "metadata": {},
   "outputs": [
    {
     "name": "stdout",
     "output_type": "stream",
     "text": [
      "Using L = 1249790 and U = 1262350 and k = 4\n"
     ]
    }
   ],
   "source": [
    "# Let's impose a 1% population deviation (+/- 0.5%)\n",
    "deviation = 0.01\n",
    "\n",
    "import math\n",
    "k = 7          # number of districts\n",
    "b = 2          # number of black majority districts\n",
    "total_population = sum(G.nodes[node]['TOTPOP'] for node in G.nodes)\n",
    "\n",
    "L = math.ceil((1-deviation/2)*total_population/k)\n",
    "U = math.floor((1+deviation/2)*total_population/k)\n",
    "print(\"Using L =\",L,\"and U =\",U,\"and k =\",k)"
   ]
  },
  {
   "cell_type": "code",
   "execution_count": 7,
   "metadata": {},
   "outputs": [
    {
     "name": "stdout",
     "output_type": "stream",
     "text": [
      "Set parameter Username\n",
      "Academic license - for non-commercial use only - expires 2024-01-18\n"
     ]
    }
   ],
   "source": [
    "# create model \n",
    "m = gp.Model()\n",
    "\n",
    "# create variables\n",
    "x = m.addVars(G.nodes, k, vtype=GRB.BINARY) # x[i,j] equals one when tract i is assigned to district j\n",
    "y = m.addVars(G.edges, vtype=GRB.BINARY)  # y[u,v] equals one when edge {u,v} is cut\n",
    "z = m.addVars(CG.nodes, k, vtype=GRB.BINARY ) #some county c is assigned to district j\n",
    "r = m.addVars(G.nodes, k, vtype=GRB.BINARY) # Add root variables: r[i,j] equals 1 if node i is the \"root\" of district j"
   ]
  },
  {
   "cell_type": "code",
   "execution_count": 8,
   "metadata": {},
   "outputs": [],
   "source": [
    "# objective is to minimize weighted cut edges (district perimeter lengths)\n",
    "m.setObjective( gp.quicksum(CG.edges[u,v]['shared_perim'] *y[u,v] for u,v in CG.edges ), GRB.MINIMIZE )"
   ]
  },
  {
   "cell_type": "code",
   "execution_count": 9,
   "metadata": {},
   "outputs": [],
   "source": [
    "# add constraints saying that edge {i,j} is cut if i is assigned to district v but j is not.\n",
    "m.addConstrs( z[u,j] - z[v,j] <= y[u,v] for u,v in CG.edges for j in range(k))\n",
    "\n",
    "# county constraints\n",
    "#keep these counties whole\n",
    "m.addConstrs(gp.quicksum(z[c,j] for j in range(k)) == 1 for c in whole_counties)\n",
    "\n",
    "#allow Mobile and Jefferson County to be split up to 2 times\n",
    "m.addConstrs(gp.quicksum(z[c,j] for j in range(k)) <= 2 for c in broken_counties)\n",
    "\n",
    "# add constraints saying that each tract i is assigned to one district\n",
    "m.addConstrs( gp.quicksum(x[i,j] for j in range(k)) == 1 for i in G.nodes)\n",
    "\n",
    "#add constraints to say tract i can only be apart of district j if their county c is\n",
    "for i in G.nodes:\n",
    "    for c in CG.nodes:\n",
    "        if G.nodes[i]['COUNTY'] == CG.nodes[c]['COUNTY']:\n",
    "            m.addConstrs(x[i,j] <= z[c,j] for j in range(k))\n",
    "\n",
    "# add constraints saying that each district has population at least L and at most U\n",
    "m.addConstrs( gp.quicksum( G.nodes[i]['TOTPOP'] * x[i,j] for i in G.nodes) >= L for j in range(k) )\n",
    "m.addConstrs( gp.quicksum( G.nodes[i]['TOTPOP'] * x[i,j] for i in G.nodes) <= U for j in range(k) )\n",
    "\n",
    "#add 2 black majority districts  \n",
    "#ΣBi*xij >= .5*ΣWi*xij for all j in range(b)\n",
    "m.addConstrs(gp.quicksum(G.nodes[i]['BVAP']* x[i,j] for i in G.nodes) >= (.5 * gp.quicksum(G.nodes[i]['VAP'] * x[i,j] for i in G.nodes)) for j in range(b))\n",
    " \n",
    "m.update()"
   ]
  },
  {
   "cell_type": "code",
   "execution_count": 10,
   "metadata": {},
   "outputs": [],
   "source": [
    "# We will use the contiguity constraints of Hojny et al. (MPC, 2021)\n",
    "# Add flow variables: f[u,v] = amount of flow sent across arc uv \n",
    "# Flows are sent across arcs of the directed version of G which we call DG\n",
    "DG = nx.DiGraph(CG)       #the directed version of CG\n",
    "f = m.addVars( DG.edges ) #flow variables of county"
   ]
  },
  {
   "cell_type": "code",
   "execution_count": 11,
   "metadata": {},
   "outputs": [],
   "source": [
    "# The big-M proposed by Hojny et al.\n",
    "M = G.number_of_nodes() - k + 1\n",
    "\n",
    "# Each district j should have one root\n",
    "m.addConstrs(gp.quicksum(r[i,j] for i in CG.nodes) == 1 for j in range(k))\n",
    "\n",
    "# If node i is not assigned to district j, then it cannot be its root\n",
    "#do not need we since we set all roots\n",
    "m.addConstrs(r[i,j] <= z[i,j] for i in CG.nodes for j in range(k))\n",
    "\n",
    "# if not a root, consume some flow.\n",
    "# if a root, only send out (so much) flow.\n",
    "m.addConstrs(gp.quicksum( f[j,i] - f[i,j] for j in CG.neighbors(i) )>= 1 - M * gp.quicksum( r[i,j] for j in range(k) ) for i in CG.nodes)\n",
    "\n",
    "# do not send flow across cut edges\n",
    "m.addConstrs(f[i,j]+ f[j,i] <= M * (1 - y[i,j]) for i,j in CG.edges)\n",
    "\n",
    "m.update()"
   ]
  },
  {
   "cell_type": "code",
   "execution_count": null,
   "metadata": {},
   "outputs": [],
   "source": [
    "# solve IP model\n",
    "m.optimize()"
   ]
  },
  {
   "cell_type": "code",
   "execution_count": null,
   "metadata": {},
   "outputs": [],
   "source": [
    "print(\"The number of cut edges is\",m.objval)\n",
    "\n",
    "# retrieve the districts and their populations\n",
    "districts = [ [i for i in G.nodes if x[i,j].x > 0.5] for j in range(k)]\n",
    "district_populations = [ sum(G.nodes[i][\"TOTPOP\"] for i in districts[j]) for j in range(k) ]\n",
    "black_voter_pop = [ sum(G.nodes[i][\"BVAP\"] for i in districts[j]) for j in range(k) ]\n",
    "voter_pop = [ sum(G.nodes[i][\"VAP\"] for i in districts[j]) for j in range(k) ]\n",
    "\n",
    "\n",
    "\n",
    "# print district info\n",
    "for j in range(k):\n",
    "    print(\"District\",j,\"has population\",district_populations[j])\n",
    "    print(\"it has a black voting age ratio\", (black_pop[j] / white_pop[j]) * 100 , '%')\n",
    "    print(\"\")"
   ]
  },
  {
   "cell_type": "code",
   "execution_count": 15,
   "metadata": {},
   "outputs": [],
   "source": [
    "# Let's draw it on a map\n",
    "# Read Alabama tract shapefile from \"AL_tract.shp\"\n",
    "filepath = 'C:\\\\Users\\\\19186\\Downloads\\\\Alabama_Project\\\\'\n",
    "filename = 'AL_tract.shp'\n",
    "\n",
    "# Read geopandas dataframe from file\n",
    "df = gpd.read_file( filepath + filename )"
   ]
  },
  {
   "cell_type": "code",
   "execution_count": null,
   "metadata": {},
   "outputs": [],
   "source": [
    "# Which district is each county assigned to?\n",
    "assignment = [ -1 for i in G.nodes ]\n",
    "\n",
    "labeling = { i : j for i in G.nodes for j in range (k) if x[i,j].x > 0.5 }\n",
    "\n",
    "# Now add the assignments to a column of the dataframe and map it\n",
    "node_with_this_geoid = {G.nodes[i]['GEOID20'] : i for i in G.nodes }\n",
    "\n",
    "# pick a position u in the dataframe\n",
    "for u in range(G.number_of_nodes()):\n",
    "    \n",
    "    geoid = df['GEOID20'][u]\n",
    "    \n",
    "    # what node in G has this geoid?\n",
    "    i = node_with_this_geoid[geoid]\n",
    "    \n",
    "    # postion u in the dataframe should be given\n",
    "    # the same district # that county i has in 'labeling'\n",
    "    assignment[u] = labeling[i]\n",
    "\n",
    "#now add the assignents to a column of our dataframe then map it\n",
    "df['assignment'] = assignment\n",
    "\n",
    "my_fig = df.plot(column='assignment').get_figure()"
   ]
  },
  {
   "cell_type": "code",
   "execution_count": null,
   "metadata": {},
   "outputs": [],
   "source": []
  }
 ],
 "metadata": {
  "kernelspec": {
   "display_name": "Python 3 (ipykernel)",
   "language": "python",
   "name": "python3"
  },
  "language_info": {
   "codemirror_mode": {
    "name": "ipython",
    "version": 3
   },
   "file_extension": ".py",
   "mimetype": "text/x-python",
   "name": "python",
   "nbconvert_exporter": "python",
   "pygments_lexer": "ipython3",
   "version": "3.9.13"
  }
 },
 "nbformat": 4,
 "nbformat_minor": 4
}
